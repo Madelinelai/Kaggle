{
  "nbformat": 4,
  "nbformat_minor": 0,
  "metadata": {
    "colab": {
      "name": "titanic.ipynb",
      "private_outputs": true,
      "provenance": [],
      "collapsed_sections": [],
      "authorship_tag": "ABX9TyOf6cshG13IYEBipWl42QDp",
      "include_colab_link": true
    },
    "kernelspec": {
      "name": "python3",
      "display_name": "Python 3"
    },
    "language_info": {
      "name": "python"
    }
  },
  "cells": [
    {
      "cell_type": "markdown",
      "metadata": {
        "id": "view-in-github",
        "colab_type": "text"
      },
      "source": [
        "<a href=\"https://colab.research.google.com/github/Madelinelai/Kaggle/blob/main/titanic.ipynb\" target=\"_parent\"><img src=\"https://colab.research.google.com/assets/colab-badge.svg\" alt=\"Open In Colab\"/></a>"
      ]
    },
    {
      "cell_type": "code",
      "metadata": {
        "id": "BPbvstVxpUd9"
      },
      "source": [
        "from urllib.request import urlretrieve\n",
        "url = \"https://github.com/Madelinelai/Kaggle/raw/main/titanic/train.csv\"\n",
        "urlretrieve(url, \"train.csv\")\n",
        "url = \"https://github.com/Madelinelai/Kaggle/raw/main/titanic/test.csv\"\n",
        "urlretrieve(url, \"test.csv\")"
      ],
      "execution_count": null,
      "outputs": []
    },
    {
      "cell_type": "code",
      "metadata": {
        "id": "IUlGE2xJrcIS"
      },
      "source": [
        "import pandas as pd\n",
        "train_df = pd.read_csv(\"train.csv\", encoding=\"utf-8\")\n",
        "test_df = pd.read_csv(\"test.csv\", encoding=\"utf-8\")"
      ],
      "execution_count": null,
      "outputs": []
    },
    {
      "cell_type": "code",
      "metadata": {
        "id": "f4aP1_JfriAv"
      },
      "source": [
        "test_df"
      ],
      "execution_count": null,
      "outputs": []
    },
    {
      "cell_type": "code",
      "metadata": {
        "id": "M4WS1tUVrkXo"
      },
      "source": [
        "#資料預處理－缺失值填補\n",
        "#step1　欄位分類　Cabin(船頭)，Embarked\n",
        "#step2  PClass.Name(中間名), Sex\n",
        "#step3  Age,SibSp,Parch,Ticket(算出同行有多少人), Fare"
      ],
      "execution_count": null,
      "outputs": []
    },
    {
      "cell_type": "code",
      "metadata": {
        "id": "IumybOphuXBn"
      },
      "source": [
        "data = pd.concat([train_df, test_df], ignore_index=True)\n",
        "data = data.drop([\"PassengerId\", \"Survived\"], axis=1)"
      ],
      "execution_count": null,
      "outputs": []
    },
    {
      "cell_type": "code",
      "metadata": {
        "id": "WGfjl_C5wX6p"
      },
      "source": [
        "# 此行是檢查資料裡是不是有N/A\n",
        "na = data.isna().sum()\n",
        "# Series[帶入根你的資料筆數一樣多True/False list]\n",
        "na[na > 0].sort_values(ascending=False)"
      ],
      "execution_count": null,
      "outputs": []
    },
    {
      "cell_type": "code",
      "metadata": {
        "id": "eBKY9MtxX6P-"
      },
      "source": [
        "#補上最常出現的類別/補上中位數\n",
        "#Cabin有空值，use apply\n",
        "#觀念說明如下\n",
        "#a = pd.Series([1,2,3])\n",
        "#def func(n):\n",
        "#  return n"
      ],
      "execution_count": null,
      "outputs": []
    },
    {
      "cell_type": "code",
      "metadata": {
        "id": "ZeXGIM6uUxTS"
      },
      "source": [
        "#如果不是空值　就回傳 s / 是空值就會回傳N/A or None\n",
        "def cabin_head(s):\n",
        "    if not pd.isna(s):\n",
        "        return s[0]\n",
        "data[\"Cabin\"] = data[\"Cabin\"].apply(cabin_head)"
      ],
      "execution_count": null,
      "outputs": []
    },
    {
      "cell_type": "code",
      "metadata": {
        "id": "ir-in0TvWSFx"
      },
      "source": [
        "#算出同行有多少人\n",
        "dic = data[\"Ticket\"].value_counts()\n",
        "data[\"Ticket\"] = data[\"Ticket\"].apply(lambda t:dic[t])"
      ],
      "execution_count": null,
      "outputs": []
    },
    {
      "cell_type": "code",
      "metadata": {
        "id": "hxRKqq_1WqQx"
      },
      "source": [
        "#補缺失值，補最常出現（類別Embarked：最常出現缺失值\u001d\n",
        "#如果一堆測試資料，不要重算，直接補s\n",
        "most = data['Embarked'].value_counts().idxmax()\n",
        "data['Embarked'] = data['Embarked'].fillna(most)\n",
        "na = data.isna().sum()\n",
        "#Series(帶入，根據你的資料筆數一樣多True/False list)\n",
        "na[na>0].sort_values(ascending=False)"
      ],
      "execution_count": null,
      "outputs": []
    },
    {
      "cell_type": "code",
      "metadata": {
        "id": "wyGtFW9fwXyr"
      },
      "source": [
        "#補缺失值\n"
      ],
      "execution_count": null,
      "outputs": []
    },
    {
      "cell_type": "code",
      "metadata": {
        "id": "w7vN5dbewXo8"
      },
      "source": [
        ""
      ],
      "execution_count": null,
      "outputs": []
    },
    {
      "cell_type": "code",
      "metadata": {
        "id": "Kv956eRZwXbk"
      },
      "source": [
        ""
      ],
      "execution_count": null,
      "outputs": []
    }
  ]
}